{
 "cells": [
  {
   "cell_type": "markdown",
   "metadata": {
    "id": "PVQspTA0XXBq"
   },
   "source": [
    " Inverse of a rotation matrix"
   ]
  },
  {
   "cell_type": "code",
   "execution_count": 1,
   "metadata": {
    "colab": {
     "base_uri": "https://localhost:8080/"
    },
    "id": "_HNbFLkHXSve",
    "outputId": "f96d2f47-0959-4218-bd7e-72d2346ba17d"
   },
   "outputs": [
    {
     "name": "stdout",
     "output_type": "stream",
     "text": [
      "Inverse of Rotation Matrix R:\n",
      " [[ 1  0  0]\n",
      " [ 0  0  1]\n",
      " [ 0 -1  0]]\n"
     ]
    }
   ],
   "source": [
    "import numpy as np\n",
    "\n",
    "def inverse_rotation_matrix(R):\n",
    "    return np.transpose(R)\n",
    "\n",
    "R = np.array([[1, 0, 0], [0, 0, -1], [0, 1, 0]])\n",
    "R_inv = inverse_rotation_matrix(R)\n",
    "print(\"Inverse of Rotation Matrix R:\\n\", R_inv)\n"
   ]
  },
  {
   "cell_type": "markdown",
   "metadata": {
    "id": "sauu14vrXh5Z"
   },
   "source": [
    "Skew-symmetric matrix from a 3-vector"
   ]
  },
  {
   "cell_type": "code",
   "execution_count": 2,
   "metadata": {
    "colab": {
     "base_uri": "https://localhost:8080/"
    },
    "id": "bwRfm_SSXgWB",
    "outputId": "4257b3d8-271e-45b4-f11a-86742576f82e"
   },
   "outputs": [
    {
     "name": "stdout",
     "output_type": "stream",
     "text": [
      "Skew-symmetric matrix:\n",
      " [[ 0 -3  2]\n",
      " [ 3  0 -1]\n",
      " [-2  1  0]]\n"
     ]
    }
   ],
   "source": [
    "def skew_symmetric_matrix(omega):\n",
    "    return np.array([[0, -omega[2], omega[1]],\n",
    "                     [omega[2], 0, -omega[0]],\n",
    "                     [-omega[1], omega[0], 0]])\n",
    "\n",
    "\n",
    "omega = np.array([1, 2, 3])\n",
    "skew_matrix = skew_symmetric_matrix(omega)\n",
    "print(\"Skew-symmetric matrix:\\n\", skew_matrix)\n"
   ]
  },
  {
   "cell_type": "markdown",
   "metadata": {
    "id": "Uhi2ctlaXpzJ"
   },
   "source": [
    "Rodrigues' rotation formula"
   ]
  },
  {
   "cell_type": "code",
   "execution_count": 3,
   "metadata": {
    "colab": {
     "base_uri": "https://localhost:8080/"
    },
    "id": "-wOpN6YbXs1B",
    "outputId": "8cdeab68-febf-40df-a046-271304876ea5"
   },
   "outputs": [
    {
     "name": "stdout",
     "output_type": "stream",
     "text": [
      "Rotation matrix using Rodrigues' formula:\n",
      " [[ 0.70710678 -0.70710678  0.        ]\n",
      " [ 0.70710678  0.70710678  0.        ]\n",
      " [ 0.          0.          1.        ]]\n"
     ]
    }
   ],
   "source": [
    "def rodrigues_rotation_formula(omega, theta):\n",
    "    omega = omega / np.linalg.norm(omega)\n",
    "    omega_skew = skew_symmetric_matrix(omega)\n",
    "    I = np.eye(3)\n",
    "    return I + np.sin(theta) * omega_skew + (1 - np.cos(theta)) * np.dot(omega_skew, omega_skew)\n",
    "\n",
    "\n",
    "omega = np.array([0, 0, 1])\n",
    "theta = np.pi / 4\n",
    "R = rodrigues_rotation_formula(omega, theta)\n",
    "print(\"Rotation matrix using Rodrigues' formula:\\n\", R)\n"
   ]
  },
  {
   "cell_type": "markdown",
   "metadata": {
    "id": "7nc6leJiXyDz"
   },
   "source": [
    "3 × 3 skew-symmetric matrix to 3-vector"
   ]
  },
  {
   "cell_type": "code",
   "execution_count": 4,
   "metadata": {
    "colab": {
     "base_uri": "https://localhost:8080/"
    },
    "id": "Xh7jW3swX0hx",
    "outputId": "df703d70-53f5-47ee-a4e4-f2e9ac8cc2ac"
   },
   "outputs": [
    {
     "name": "stdout",
     "output_type": "stream",
     "text": [
      "Recovered 3-vector from skew-symmetric matrix: [1 2 3]\n"
     ]
    }
   ],
   "source": [
    "def vector_from_skew_symmetric(skew_matrix):\n",
    "    return np.array([skew_matrix[2, 1], skew_matrix[0, 2], skew_matrix[1, 0]])\n",
    "\n",
    "\n",
    "skew_matrix = np.array([[0, -3, 2], [3, 0, -1], [-2, 1, 0]])\n",
    "omega = vector_from_skew_symmetric(skew_matrix)\n",
    "print(\"Recovered 3-vector from skew-symmetric matrix:\", omega)\n"
   ]
  },
  {
   "cell_type": "markdown",
   "metadata": {
    "id": "17wT8YAJX3iR"
   },
   "source": [
    "Extract rotation axis and angle from exponential coordinates"
   ]
  },
  {
   "cell_type": "code",
   "execution_count": 5,
   "metadata": {
    "colab": {
     "base_uri": "https://localhost:8080/"
    },
    "id": "Msk_PwO1X51y",
    "outputId": "e7088e15-7a86-468c-e7b4-ad9d794c5b36"
   },
   "outputs": [
    {
     "name": "stdout",
     "output_type": "stream",
     "text": [
      "Rotation axis: [0.70710678 0.70710678 0.        ]\n",
      "Rotation angle: 1.4142135623730951\n"
     ]
    }
   ],
   "source": [
    "def extract_rotation_axis_angle(omega_theta):\n",
    "    theta = np.linalg.norm(omega_theta)\n",
    "    omega = omega_theta / theta\n",
    "    return omega, theta\n",
    "\n",
    "\n",
    "omega_theta = np.array([1, 1, 0])\n",
    "omega, theta = extract_rotation_axis_angle(omega_theta)\n",
    "print(\"Rotation axis:\", omega)\n",
    "print(\"Rotation angle:\", theta)\n"
   ]
  },
  {
   "cell_type": "markdown",
   "metadata": {
    "id": "8X05TK-CX8YZ"
   },
   "source": [
    "Rotation matrix to axis and angle"
   ]
  },
  {
   "cell_type": "code",
   "execution_count": 6,
   "metadata": {
    "colab": {
     "base_uri": "https://localhost:8080/"
    },
    "id": "z4j1jqqDX-ly",
    "outputId": "0882703d-cdfb-4992-e8cc-a07054b2807f"
   },
   "outputs": [
    {
     "name": "stdout",
     "output_type": "stream",
     "text": [
      "Rotation axis: [0.         0.         0.99998082]\n",
      "Rotation angle: 0.7854077533974488\n"
     ]
    }
   ],
   "source": [
    "def rotation_matrix_to_axis_angle(R):\n",
    "    theta = np.arccos((np.trace(R) - 1) / 2)\n",
    "    omega_skew = (R - R.T) / (2 * np.sin(theta))\n",
    "    omega = vector_from_skew_symmetric(omega_skew)\n",
    "    return omega, theta\n",
    "\n",
    "\n",
    "R = np.array([[0.7071, -0.7071, 0],\n",
    "              [0.7071, 0.7071, 0],\n",
    "              [0, 0, 1]])\n",
    "omega, theta = rotation_matrix_to_axis_angle(R)\n",
    "print(\"Rotation axis:\", omega)\n",
    "print(\"Rotation angle:\", theta)\n"
   ]
  },
  {
   "cell_type": "markdown",
   "metadata": {
    "id": "0X_FlfOMYBpy"
   },
   "source": [
    "Homogeneous matrix from rotation matrix and position vector"
   ]
  },
  {
   "cell_type": "code",
   "execution_count": 7,
   "metadata": {
    "colab": {
     "base_uri": "https://localhost:8080/"
    },
    "id": "OjLn_URxYEQi",
    "outputId": "0f6938de-2a32-498e-b1d1-15d85fc172a7"
   },
   "outputs": [
    {
     "name": "stdout",
     "output_type": "stream",
     "text": [
      "Homogeneous transformation matrix:\n",
      " [[1. 0. 0. 1.]\n",
      " [0. 1. 0. 2.]\n",
      " [0. 0. 1. 3.]\n",
      " [0. 0. 0. 1.]]\n"
     ]
    }
   ],
   "source": [
    "def homogeneous_matrix(R, p):\n",
    "    T = np.eye(4)\n",
    "    T[:3, :3] = R\n",
    "    T[:3, 3] = p\n",
    "    return T\n",
    "\n",
    "R = np.eye(3)\n",
    "p = np.array([1, 2, 3])\n",
    "T = homogeneous_matrix(R, p)\n",
    "print(\"Homogeneous transformation matrix:\\n\", T)\n"
   ]
  },
  {
   "cell_type": "markdown",
   "metadata": {
    "id": "t1H53bFWYHkz"
   },
   "source": [
    "Extract rotation matrix and position vector from homogeneous matrix"
   ]
  },
  {
   "cell_type": "code",
   "execution_count": 8,
   "metadata": {
    "colab": {
     "base_uri": "https://localhost:8080/"
    },
    "id": "pe8j75r0YKle",
    "outputId": "1cb1f8a1-3a63-4c1b-91af-1ccc0f030c76"
   },
   "outputs": [
    {
     "name": "stdout",
     "output_type": "stream",
     "text": [
      "Rotation matrix R:\n",
      " [[1 0 0]\n",
      " [0 1 0]\n",
      " [0 0 1]]\n",
      "Position vector p: [1 2 3]\n"
     ]
    }
   ],
   "source": [
    "def extract_from_homogeneous_matrix(T):\n",
    "    R = T[:3, :3]\n",
    "    p = T[:3, 3]\n",
    "    return R, p\n",
    "\n",
    "T = np.array([[1, 0, 0, 1],\n",
    "              [0, 1, 0, 2],\n",
    "              [0, 0, 1, 3],\n",
    "              [0, 0, 0, 1]])\n",
    "R, p = extract_from_homogeneous_matrix(T)\n",
    "print(\"Rotation matrix R:\\n\", R)\n",
    "print(\"Position vector p:\", p)\n"
   ]
  },
  {
   "cell_type": "markdown",
   "metadata": {
    "id": "Sa0G4y27YNwj"
   },
   "source": [
    "Inverse of homogeneous transformation matrix"
   ]
  },
  {
   "cell_type": "code",
   "execution_count": 9,
   "metadata": {
    "colab": {
     "base_uri": "https://localhost:8080/"
    },
    "id": "0g3fo_dZYRAL",
    "outputId": "7faafc65-d2e1-452d-bc20-889fe6c08930"
   },
   "outputs": [
    {
     "name": "stdout",
     "output_type": "stream",
     "text": [
      "Inverse of Homogeneous Matrix:\n",
      " [[ 1.  0.  0. -1.]\n",
      " [ 0.  1.  0. -2.]\n",
      " [ 0.  0.  1. -3.]\n",
      " [ 0.  0.  0.  1.]]\n"
     ]
    }
   ],
   "source": [
    "def inverse_homogeneous_matrix(T):\n",
    "    R = T[:3, :3]\n",
    "    p = T[:3, 3]\n",
    "    T_inv = np.eye(4)\n",
    "    T_inv[:3, :3] = R.T\n",
    "    T_inv[:3, 3] = -np.dot(R.T, p)\n",
    "    return T_inv\n",
    "\n",
    "T = np.array([[1, 0, 0, 1],\n",
    "              [0, 1, 0, 2],\n",
    "              [0, 0, 1, 3],\n",
    "              [0, 0, 0, 1]])\n",
    "T_inv = inverse_homogeneous_matrix(T)\n",
    "print(\"Inverse of Homogeneous Matrix:\\n\", T_inv)\n"
   ]
  },
  {
   "cell_type": "markdown",
   "metadata": {
    "id": "TqoLVfuOYUJq"
   },
   "source": [
    "Homogeneous coordinates of a 3-vector"
   ]
  },
  {
   "cell_type": "code",
   "execution_count": 10,
   "metadata": {
    "colab": {
     "base_uri": "https://localhost:8080/"
    },
    "id": "fdvbh6-HYWUE",
    "outputId": "2dd526a0-500f-44e3-e371-fc07ebcf06a8"
   },
   "outputs": [
    {
     "name": "stdout",
     "output_type": "stream",
     "text": [
      "Homogeneous coordinates of vector: [1 2 3 1]\n"
     ]
    }
   ],
   "source": [
    "def homogeneous_coordinates(vector):\n",
    "    return np.append(vector, 1)\n",
    "\n",
    "\n",
    "vector = np.array([1, 2, 3])\n",
    "homogeneous_vec = homogeneous_coordinates(vector)\n",
    "print(\"Homogeneous coordinates of vector:\", homogeneous_vec)\n"
   ]
  },
  {
   "cell_type": "markdown",
   "metadata": {
    "id": "K8bJgrvdYaS0"
   },
   "source": [
    "Adjoint representation of homogeneous transformation matrix"
   ]
  },
  {
   "cell_type": "code",
   "execution_count": 11,
   "metadata": {
    "colab": {
     "base_uri": "https://localhost:8080/"
    },
    "id": "qbUXUSabYbRE",
    "outputId": "26fdb885-4b69-47ec-e284-7a4ffe456411"
   },
   "outputs": [
    {
     "name": "stdout",
     "output_type": "stream",
     "text": [
      "Adjoint representation:\n",
      " [[ 1.  0.  0.  0.  0.  0.]\n",
      " [ 0.  1.  0.  0.  0.  0.]\n",
      " [ 0.  0.  1.  0.  0.  0.]\n",
      " [ 0. -3.  2.  1.  0.  0.]\n",
      " [ 3.  0. -1.  0.  1.  0.]\n",
      " [-2.  1.  0.  0.  0.  1.]]\n"
     ]
    }
   ],
   "source": [
    "def adjoint_representation(T):\n",
    "    R, p = extract_from_homogeneous_matrix(T)\n",
    "    p_skew = skew_symmetric_matrix(p)\n",
    "    adj_T = np.zeros((6, 6))\n",
    "    adj_T[:3, :3] = R\n",
    "    adj_T[3:, 3:] = R\n",
    "    adj_T[3:, :3] = np.dot(p_skew, R)\n",
    "    return adj_T\n",
    "\n",
    "T = np.array([[1, 0, 0, 1],\n",
    "              [0, 1, 0, 2],\n",
    "              [0, 0, 1, 3],\n",
    "              [0, 0, 0, 1]])\n",
    "adj_T = adjoint_representation(T)\n",
    "print(\"Adjoint representation:\\n\", adj_T)\n"
   ]
  },
  {
   "cell_type": "markdown",
   "metadata": {
    "id": "-gPKNPMTYdwM"
   },
   "source": [
    "Extract normalized screw axis and distance from exponential coordinates of motion"
   ]
  },
  {
   "cell_type": "code",
   "execution_count": 13,
   "metadata": {
    "colab": {
     "base_uri": "https://localhost:8080/"
    },
    "id": "yE9Q2wcgYgMb",
    "outputId": "e6966491-2a1e-4577-f495-d473fb847bb2"
   },
   "outputs": [
    {
     "name": "stdout",
     "output_type": "stream",
     "text": [
      "Screw axis S: [1. 0. 0. 0. 1. 2.]\n",
      "Distance q: 1.0\n"
     ]
    }
   ],
   "source": [
    "def extract_screw_axis_distance(Sq):\n",
    "    q = np.linalg.norm(Sq[:3])\n",
    "    S = Sq / q\n",
    "    return S, q\n",
    "\n",
    "\n",
    "Sq = np.array([1, 0, 0, 0, 1, 2])\n",
    "S, q = extract_screw_axis_distance(Sq)\n",
    "print(\"Screw axis S:\", S)\n",
    "print(\"Distance q:\", q)\n"
   ]
  },
  {
   "cell_type": "markdown",
   "metadata": {
    "id": "Kst8cBUFYjns"
   },
   "source": [
    "Matrix representation of screw axis"
   ]
  },
  {
   "cell_type": "code",
   "execution_count": 14,
   "metadata": {
    "colab": {
     "base_uri": "https://localhost:8080/"
    },
    "id": "-1fWA4DyYmGV",
    "outputId": "8dc040e2-57ba-4f66-ac95-c3678891c054"
   },
   "outputs": [
    {
     "name": "stdout",
     "output_type": "stream",
     "text": [
      "Matrix representation of screw axis:\n",
      " [[ 0. -1.  0.  1.]\n",
      " [ 1.  0.  0.  2.]\n",
      " [ 0.  0.  0.  3.]\n",
      " [ 0.  0.  0.  0.]]\n"
     ]
    }
   ],
   "source": [
    "def screw_axis_to_matrix(S):\n",
    "    omega = S[:3]\n",
    "    v = S[3:]\n",
    "    omega_skew = skew_symmetric_matrix(omega)\n",
    "    S_matrix = np.zeros((4, 4))\n",
    "    S_matrix[:3, :3] = omega_skew\n",
    "    S_matrix[:3, 3] = v\n",
    "    return S_matrix\n",
    "\n",
    "\n",
    "S = np.array([0, 0, 1, 1, 2, 3])\n",
    "S_matrix = screw_axis_to_matrix(S)\n",
    "print(\"Matrix representation of screw axis:\\n\", S_matrix)\n"
   ]
  },
  {
   "cell_type": "markdown",
   "metadata": {
    "id": "CaIgSswyYqjL"
   },
   "source": [
    " Homogeneous transformation matrix from screw axis and distance"
   ]
  },
  {
   "cell_type": "code",
   "execution_count": 15,
   "metadata": {
    "colab": {
     "base_uri": "https://localhost:8080/"
    },
    "id": "2xV2hk6yYqBU",
    "outputId": "34b7a331-60da-48ed-ac18-df207bde39c6"
   },
   "outputs": [
    {
     "name": "stdout",
     "output_type": "stream",
     "text": [
      "Homogeneous transformation matrix from screw axis:\n",
      " [[ 0.70710678 -0.70710678  0.          0.12132034]\n",
      " [ 0.70710678  0.70710678  0.          1.70710678]\n",
      " [ 0.          0.          1.          2.35619449]\n",
      " [ 0.          0.          0.          1.        ]]\n"
     ]
    }
   ],
   "source": [
    "def homogeneous_transformation_from_screw(S, q):\n",
    "    omega = S[:3]\n",
    "    v = S[3:]\n",
    "    R = rodrigues_rotation_formula(omega, q)\n",
    "    p = (np.eye(3) - R).dot(np.cross(omega, v)) + np.outer(omega, omega).dot(v) * q\n",
    "    T = homogeneous_matrix(R, p)\n",
    "    return T\n",
    "\n",
    "\n",
    "S = np.array([0, 0, 1, 1, 2, 3])\n",
    "q = np.pi / 4\n",
    "T = homogeneous_transformation_from_screw(S, q)\n",
    "print(\"Homogeneous transformation matrix from screw axis:\\n\", T)\n"
   ]
  },
  {
   "cell_type": "markdown",
   "metadata": {
    "id": "NE9TkhckYt8k"
   },
   "source": [
    "Screw axis and distance from homogeneous transformation matrix"
   ]
  },
  {
   "cell_type": "code",
   "execution_count": 16,
   "metadata": {
    "colab": {
     "base_uri": "https://localhost:8080/"
    },
    "id": "teWV2SB0Yxxk",
    "outputId": "fe950f0e-59a1-4c75-df47-a7d8ef68fe10"
   },
   "outputs": [
    {
     "name": "stdout",
     "output_type": "stream",
     "text": [
      "Screw axis S: [nan nan nan nan nan nan]\n",
      "Distance q: 0.0\n"
     ]
    },
    {
     "name": "stderr",
     "output_type": "stream",
     "text": [
      "<ipython-input-6-db548ef93552>:3: RuntimeWarning: invalid value encountered in divide\n",
      "  omega_skew = (R - R.T) / (2 * np.sin(theta))\n"
     ]
    }
   ],
   "source": [
    "def screw_from_homogeneous_matrix(T):\n",
    "    R, p = extract_from_homogeneous_matrix(T)\n",
    "    omega, theta = rotation_matrix_to_axis_angle(R)\n",
    "    v = 1/theta*np.dot(np.eye(3) - R, np.cross(omega, p)) + omega * np.dot(omega, p) * theta\n",
    "    S = np.concatenate((omega, v))\n",
    "    return S, theta\n",
    "\n",
    "\n",
    "T = np.array([[1, 0, 0, 1],\n",
    "              [0, 1, 0, 2],\n",
    "              [0, 0, 1, 3],\n",
    "              [0, 0, 0, 1]])\n",
    "S, q = screw_from_homogeneous_matrix(T)\n",
    "print(\"Screw axis S:\", S)\n",
    "print(\"Distance q:\", q)\n"
   ]
  },
  {
   "cell_type": "code",
   "execution_count": 3,
   "metadata": {},
   "outputs": [
    {
     "name": "stdout",
     "output_type": "stream",
     "text": [
      "Screw axis (6D): [ 0.  0.  1.  2. -1.  0.]\n",
      "Point on the screw axis (q): [-1. -2.  0.]\n"
     ]
    }
   ],
   "source": [
    "import numpy as np\n",
    "\n",
    "def get_screw_axis_and_q(T):\n",
    "\n",
    "\n",
    "    assert T.shape == (4, 4), \"T must be a 4x4 matrix\"\n",
    "\n",
    "    R = T[0:3, 0:3]  # Rotation matrix (3x3)\n",
    "    d = T[0:3, 3]    # Translation vector (3x1)\n",
    "    \n",
    "    # Calculate the angle of rotation from the trace of the rotation matrix\n",
    "    theta = np.arccos((np.trace(R) - 1) / 2)\n",
    "    \n",
    "    # If the angle is close to 0, handle the singular case\n",
    "    if np.isclose(theta, 0):\n",
    "        # Pure translation\n",
    "        s = np.zeros(6)\n",
    "        s[3:] = d\n",
    "        q = np.zeros(3)  # Arbitrary point as no rotation\n",
    "    else:\n",
    "        # Compute the rotation axis (r)\n",
    "        r = np.array([\n",
    "            R[2, 1] - R[1, 2],\n",
    "            R[0, 2] - R[2, 0],\n",
    "            R[1, 0] - R[0, 1]\n",
    "        ]) / (2 * np.sin(theta))\n",
    "        \n",
    "        # Calculate the screw axis combining rotation and translation\n",
    "        v = np.cross(-r, d)\n",
    "        s = np.hstack([r, v])  # Screw axis (6D vector)\n",
    "        \n",
    "        # Compute a point on the screw axis (q)\n",
    "        q = np.cross(-r, v) / np.dot(r, r)\n",
    "    \n",
    "    return s, q\n",
    "\n",
    "# Example usage:\n",
    "T = np.array([[0, -1,  0, 1],\n",
    "              [1,  0,  0, 2],\n",
    "              [0,  0,  1, 3],\n",
    "              [0,  0,  0, 1]])\n",
    "\n",
    "screw_axis, q = get_screw_axis_and_q(T)\n",
    "print(\"Screw axis (6D):\", screw_axis)\n",
    "print(\"Point on the screw axis (q):\", q)\n"
   ]
  },
  {
   "cell_type": "code",
   "execution_count": null,
   "metadata": {},
   "outputs": [],
   "source": []
  }
 ],
 "metadata": {
  "colab": {
   "provenance": []
  },
  "kernelspec": {
   "display_name": "Python 3 (ipykernel)",
   "language": "python",
   "name": "python3"
  },
  "language_info": {
   "codemirror_mode": {
    "name": "ipython",
    "version": 3
   },
   "file_extension": ".py",
   "mimetype": "text/x-python",
   "name": "python",
   "nbconvert_exporter": "python",
   "pygments_lexer": "ipython3",
   "version": "3.10.12"
  }
 },
 "nbformat": 4,
 "nbformat_minor": 4
}
